{
  "nbformat": 4,
  "nbformat_minor": 0,
  "metadata": {
    "colab": {
      "name": "NewsRankTool.ipynb",
      "provenance": [],
      "collapsed_sections": [],
      "mount_file_id": "17SS3PMWmRuk2R-pNyYlGKxMLXp0luqzx",
      "authorship_tag": "ABX9TyMCFj1FIwx/kIKEhFit3idX",
      "include_colab_link": true
    },
    "kernelspec": {
      "name": "python3",
      "display_name": "Python 3"
    }
  },
  "cells": [
    {
      "cell_type": "markdown",
      "metadata": {
        "id": "view-in-github",
        "colab_type": "text"
      },
      "source": [
        "<a href=\"https://colab.research.google.com/github/habibsifat/NewsArticleRanking/blob/master/NewsRankTool.ipynb\" target=\"_parent\"><img src=\"https://colab.research.google.com/assets/colab-badge.svg\" alt=\"Open In Colab\"/></a>"
      ]
    },
    {
      "cell_type": "code",
      "metadata": {
        "id": "MOSmZGDJzidk",
        "colab_type": "code",
        "colab": {
          "base_uri": "https://localhost:8080/",
          "height": 35
        },
        "outputId": "c340d351-c962-4d1e-b96e-2c6493fd375d"
      },
      "source": [
        "ls  \"/content/drive/My Drive/Colab Notebooks/NewsRankingTool\""
      ],
      "execution_count": 18,
      "outputs": [
        {
          "output_type": "stream",
          "text": [
            "news_april18.csv  NewsRankTool.ipynb\n"
          ],
          "name": "stdout"
        }
      ]
    },
    {
      "cell_type": "code",
      "metadata": {
        "id": "aCkicqdO0IUd",
        "colab_type": "code",
        "colab": {}
      },
      "source": [
        "import pandas as pd\n",
        "from sklearn.feature_extraction.text import CountVectorizer\n",
        "from sklearn.metrics.pairwise import cosine_similarity\n",
        "from sklearn.feature_extraction.text import TfidfVectorizer\n",
        "data = pd.read_csv(\"/content/drive/My Drive/Colab Notebooks/NewsRankingTool/news_april18.csv\") \n",
        "#data.head()"
      ],
      "execution_count": 0,
      "outputs": []
    },
    {
      "cell_type": "code",
      "metadata": {
        "id": "7YvqSrlM0x4Q",
        "colab_type": "code",
        "colab": {
          "base_uri": "https://localhost:8080/",
          "height": 198
        },
        "outputId": "555ac10b-d451-4811-b0ba-697ec6687cc7"
      },
      "source": [
        "data = data.drop('URL', 1)\n",
        "data = data.drop('Unnamed: 0', 1)\n",
        "size = len(data.index)\n",
        "data.head()"
      ],
      "execution_count": 29,
      "outputs": [
        {
          "output_type": "execute_result",
          "data": {
            "text/html": [
              "<div>\n",
              "<style scoped>\n",
              "    .dataframe tbody tr th:only-of-type {\n",
              "        vertical-align: middle;\n",
              "    }\n",
              "\n",
              "    .dataframe tbody tr th {\n",
              "        vertical-align: top;\n",
              "    }\n",
              "\n",
              "    .dataframe thead th {\n",
              "        text-align: right;\n",
              "    }\n",
              "</style>\n",
              "<table border=\"1\" class=\"dataframe\">\n",
              "  <thead>\n",
              "    <tr style=\"text-align: right;\">\n",
              "      <th></th>\n",
              "      <th>Title</th>\n",
              "      <th>Details</th>\n",
              "    </tr>\n",
              "  </thead>\n",
              "  <tbody>\n",
              "    <tr>\n",
              "      <th>0</th>\n",
              "      <td>ইইউ ক্যাপিটালে মৃত্যুর মিছিল, এখনও নিরাপদে আছে...</td>\n",
              "      <td>\\n\\nমিজানুর রহমান\\nঅনলাইন  ১৮ এপ্রিল ২০২০, শনি...</td>\n",
              "    </tr>\n",
              "    <tr>\n",
              "      <th>1</th>\n",
              "      <td>করোনা কেড়ে নিলো দেড় লাখ প্রাণ</td>\n",
              "      <td>\\n\\nঅনলাইন ডেস্ক \\nঅনলাইন  ১৮ এপ্রিল ২০২০, শনি...</td>\n",
              "    </tr>\n",
              "    <tr>\n",
              "      <th>2</th>\n",
              "      <td>‘আমিই ভেন্টিলেটর বন্ধ করছি আর রোগীর শেষ মুহূর্...</td>\n",
              "      <td>\\n\\n\\nঅনলাইন             ১৮ এপ্রিল ২০২০, শনিবা...</td>\n",
              "    </tr>\n",
              "    <tr>\n",
              "      <th>3</th>\n",
              "      <td>আরো কঠোর হচ্ছে পুলিশ</td>\n",
              "      <td>\\n\\nস্টাফ রিপোর্টার\\nঅনলাইন  ১৮ এপ্রিল ২০২০, শ...</td>\n",
              "    </tr>\n",
              "    <tr>\n",
              "      <th>4</th>\n",
              "      <td>আইনমন্ত্রীর মায়ের ইন্তেকাল</td>\n",
              "      <td>\\n\\n অনলাইন ডেস্ক\\nঅনলাইন  ১৮ এপ্রিল ২০২০, শনি...</td>\n",
              "    </tr>\n",
              "  </tbody>\n",
              "</table>\n",
              "</div>"
            ],
            "text/plain": [
              "                                               Title                                            Details\n",
              "0  ইইউ ক্যাপিটালে মৃত্যুর মিছিল, এখনও নিরাপদে আছে...  \\n\\nমিজানুর রহমান\\nঅনলাইন  ১৮ এপ্রিল ২০২০, শনি...\n",
              "1                      করোনা কেড়ে নিলো দেড় লাখ প্রাণ  \\n\\nঅনলাইন ডেস্ক \\nঅনলাইন  ১৮ এপ্রিল ২০২০, শনি...\n",
              "2  ‘আমিই ভেন্টিলেটর বন্ধ করছি আর রোগীর শেষ মুহূর্...  \\n\\n\\nঅনলাইন             ১৮ এপ্রিল ২০২০, শনিবা...\n",
              "3                               আরো কঠোর হচ্ছে পুলিশ  \\n\\nস্টাফ রিপোর্টার\\nঅনলাইন  ১৮ এপ্রিল ২০২০, শ...\n",
              "4                         আইনমন্ত্রীর মায়ের ইন্তেকাল  \\n\\n অনলাইন ডেস্ক\\nঅনলাইন  ১৮ এপ্রিল ২০২০, শনি..."
            ]
          },
          "metadata": {
            "tags": []
          },
          "execution_count": 29
        }
      ]
    },
    {
      "cell_type": "markdown",
      "metadata": {
        "id": "nGVPxGMYuL5E",
        "colab_type": "text"
      },
      "source": [
        "# **Method**"
      ]
    },
    {
      "cell_type": "code",
      "metadata": {
        "id": "ehz5qRiTqn0q",
        "colab_type": "code",
        "colab": {}
      },
      "source": [
        "input_text = data.loc[0,:]\n",
        "print(str(input_text))"
      ],
      "execution_count": 0,
      "outputs": []
    },
    {
      "cell_type": "code",
      "metadata": {
        "id": "MxUlxZ2jjDuO",
        "colab_type": "code",
        "colab": {
          "base_uri": "https://localhost:8080/",
          "height": 1000
        },
        "outputId": "ca145e13-1e92-496a-8151-fa85c23d47c2"
      },
      "source": [
        "import nltk, string\n",
        "from sklearn.feature_extraction.text import TfidfVectorizer\n",
        "\n",
        "#nltk.download('punkt') # if necessary\n",
        "\n",
        "with open('/content/stopwords_bangla.txt', 'r') as infile:\n",
        "   stop_words = infile.read().splitlines()\n",
        "\n",
        "stemmer = nltk.stem.porter.PorterStemmer()\n",
        "remove_punctuation_map = dict((ord(char), None) for char in string.punctuation)\n",
        "\n",
        "def stem_tokens(tokens):\n",
        "    return [stemmer.stem(item) for item in tokens]\n",
        "\n",
        "'''remove punctuation, lowercase, stem'''\n",
        "def normalize(text):\n",
        "    return stem_tokens(nltk.word_tokenize(text.lower().translate(remove_punctuation_map)))\n",
        "\n",
        "vectorizer = TfidfVectorizer(tokenizer=normalize)\n",
        "\n",
        "def cosine_sim(text1, text2):\n",
        "    tfidf = vectorizer.fit_transform([text1, text2])\n",
        "    return ((tfidf * tfidf.T).A)[0,1]\n",
        "\n",
        "#print (cosine_sim('করোনা কেড়ে নিলো দেড় লাখ প্রাণ', 'করোনা ভাইরাস কেড়ে নিলো দেড় লাখ প্রাণ'))\n",
        "\n",
        "for i in range(1,size):\n",
        "  news = data.loc[i,:]\n",
        "  print(\"Similarities with recent news article :\",i,\"-\",cosine_sim(str(input_text), str(news)))"
      ],
      "execution_count": 30,
      "outputs": [
        {
          "output_type": "stream",
          "text": [
            "Similarities with recent news article : 1 - 0.31300731420040695\n",
            "Similarities with recent news article : 2 - 0.26058261058807813\n",
            "Similarities with recent news article : 3 - 0.30073892445851663\n",
            "Similarities with recent news article : 4 - 0.3512942043795418\n",
            "Similarities with recent news article : 5 - 0.1692423089234664\n",
            "Similarities with recent news article : 6 - 0.27851262066679533\n",
            "Similarities with recent news article : 7 - 0.2279834282943299\n",
            "Similarities with recent news article : 8 - 0.2889866916714392\n",
            "Similarities with recent news article : 9 - 0.31300731420040695\n",
            "Similarities with recent news article : 10 - 0.3243467226869277\n",
            "Similarities with recent news article : 11 - 0.3370151240323181\n",
            "Similarities with recent news article : 12 - 0.26910064729667793\n",
            "Similarities with recent news article : 13 - 0.20244121907722926\n",
            "Similarities with recent news article : 14 - 0.27851262066679533\n",
            "Similarities with recent news article : 15 - 0.15797000545984544\n",
            "Similarities with recent news article : 16 - 0.31405239181438743\n",
            "Similarities with recent news article : 17 - 0.23569101223724898\n",
            "Similarities with recent news article : 18 - 0.15311754808520733\n",
            "Similarities with recent news article : 19 - 0.24423719531082916\n",
            "Similarities with recent news article : 20 - 0.20244121907722926\n",
            "Similarities with recent news article : 21 - 0.26910064729667793\n",
            "Similarities with recent news article : 22 - 0.30073892445851663\n",
            "Similarities with recent news article : 23 - 0.26910064729667793\n",
            "Similarities with recent news article : 24 - 0.27851262066679533\n",
            "Similarities with recent news article : 25 - 0.3243467226869277\n",
            "Similarities with recent news article : 26 - 0.30073892445851663\n",
            "Similarities with recent news article : 27 - 0.1955941994369424\n",
            "Similarities with recent news article : 28 - 0.21006162014961774\n",
            "Similarities with recent news article : 29 - 0.2528254093477904\n",
            "Similarities with recent news article : 30 - 0.26910064729667793\n",
            "Similarities with recent news article : 31 - 0.31405239181438743\n",
            "Similarities with recent news article : 32 - 0.17383560099305623\n",
            "Similarities with recent news article : 33 - 0.2889866916714392\n",
            "Similarities with recent news article : 34 - 0.26058261058807813\n",
            "Similarities with recent news article : 35 - 0.2528254093477904\n",
            "Similarities with recent news article : 36 - 0.26910064729667793\n",
            "Similarities with recent news article : 37 - 0.26910064729667793\n",
            "Similarities with recent news article : 38 - 0.1692423089234664\n",
            "Similarities with recent news article : 39 - 0.25631072762588847\n",
            "Similarities with recent news article : 40 - 0.2209856974737305\n",
            "Similarities with recent news article : 41 - 0.30073892445851663\n",
            "Similarities with recent news article : 42 - 0.15797000545984544\n",
            "Similarities with recent news article : 43 - 0.26910064729667793\n",
            "Similarities with recent news article : 44 - 0.24572213130783485\n",
            "Similarities with recent news article : 45 - 0.27851262066679533\n",
            "Similarities with recent news article : 46 - 0.27851262066679533\n",
            "Similarities with recent news article : 47 - 0.26910064729667793\n",
            "Similarities with recent news article : 48 - 0.26910064729667793\n",
            "Similarities with recent news article : 49 - 0.21006162014961774\n",
            "Similarities with recent news article : 50 - 0.27851262066679533\n",
            "Similarities with recent news article : 51 - 0.27851262066679533\n",
            "Similarities with recent news article : 52 - 0.2889866916714392\n",
            "Similarities with recent news article : 53 - 0.17383560099305623\n",
            "Similarities with recent news article : 54 - 0.20244121907722926\n",
            "Similarities with recent news article : 55 - 0.15797000545984544\n",
            "Similarities with recent news article : 56 - 0.2528254093477904\n",
            "Similarities with recent news article : 57 - 0.27851262066679533\n",
            "Similarities with recent news article : 58 - 0.26058261058807813\n",
            "Similarities with recent news article : 59 - 0.26910064729667793\n",
            "Similarities with recent news article : 60 - 0.2889866916714392\n",
            "Similarities with recent news article : 61 - 0.2889866916714392\n",
            "Similarities with recent news article : 62 - 0.26910064729667793\n",
            "Similarities with recent news article : 63 - 0.29349327428086586\n",
            "Similarities with recent news article : 64 - 0.26910064729667793\n",
            "Similarities with recent news article : 65 - 0.2889866916714392\n",
            "Similarities with recent news article : 66 - 0.2889866916714392\n",
            "Similarities with recent news article : 67 - 0.26058261058807813\n",
            "Similarities with recent news article : 68 - 0.2889866916714392\n",
            "Similarities with recent news article : 69 - 0.26910064729667793\n",
            "Similarities with recent news article : 70 - 0.27851262066679533\n",
            "Similarities with recent news article : 71 - 0.3512942043795418\n",
            "Similarities with recent news article : 72 - 0.26910064729667793\n",
            "Similarities with recent news article : 73 - 0.26058261058807813\n",
            "Similarities with recent news article : 74 - 0.31405239181438743\n",
            "Similarities with recent news article : 75 - 0.27851262066679533\n",
            "Similarities with recent news article : 76 - 0.31405239181438743\n",
            "Similarities with recent news article : 77 - 0.27851262066679533\n",
            "Similarities with recent news article : 78 - 0.2528254093477904\n",
            "Similarities with recent news article : 79 - 0.2889866916714392\n",
            "Similarities with recent news article : 80 - 0.1893980154483384\n",
            "Similarities with recent news article : 81 - 0.26058261058807813\n",
            "Similarities with recent news article : 82 - 0.26910064729667793\n",
            "Similarities with recent news article : 83 - 0.30073892445851663\n",
            "Similarities with recent news article : 84 - 0.26910064729667793\n",
            "Similarities with recent news article : 85 - 0.2645500995562678\n",
            "Similarities with recent news article : 86 - 0.27851262066679533\n",
            "Similarities with recent news article : 87 - 0.27851262066679533\n",
            "Similarities with recent news article : 88 - 0.26910064729667793\n",
            "Similarities with recent news article : 89 - 0.2889866916714392\n",
            "Similarities with recent news article : 90 - 0.27851262066679533\n",
            "Similarities with recent news article : 91 - 0.1955941994369424\n",
            "Similarities with recent news article : 92 - 0.18333263929028415\n",
            "Similarities with recent news article : 93 - 0.1692423089234664\n",
            "Similarities with recent news article : 94 - 0.17586553685537643\n",
            "Similarities with recent news article : 95 - 0.17586553685537643\n",
            "Similarities with recent news article : 96 - 0.23569101223724898\n",
            "Similarities with recent news article : 97 - 0.1692423089234664\n",
            "Similarities with recent news article : 98 - 0.1692423089234664\n",
            "Similarities with recent news article : 99 - 0.1893980154483384\n",
            "Similarities with recent news article : 100 - 0.18333263929028415\n",
            "Similarities with recent news article : 101 - 0.19183951916565675\n",
            "Similarities with recent news article : 102 - 0.16331511463973994\n",
            "Similarities with recent news article : 103 - 0.16331511463973994\n",
            "Similarities with recent news article : 104 - 0.27851262066679533\n",
            "Similarities with recent news article : 105 - 0.1692423089234664\n",
            "Similarities with recent news article : 106 - 0.15311754808520733\n",
            "Similarities with recent news article : 107 - 0.17586553685537643\n",
            "Similarities with recent news article : 108 - 0.14868643505006926\n",
            "Similarities with recent news article : 109 - 0.16331511463973994\n",
            "Similarities with recent news article : 110 - 0.15311754808520736\n",
            "Similarities with recent news article : 111 - 0.1955941994369424\n",
            "Similarities with recent news article : 112 - 0.1692423089234664\n",
            "Similarities with recent news article : 113 - 0.16331511463973994\n",
            "Similarities with recent news article : 114 - 0.14461901945292335\n",
            "Similarities with recent news article : 115 - 0.15797000545984544\n",
            "Similarities with recent news article : 116 - 0.2279834282943299\n",
            "Similarities with recent news article : 117 - 0.16331511463973994\n",
            "Similarities with recent news article : 118 - 0.18333263929028415\n",
            "Similarities with recent news article : 119 - 0.17586553685537643\n",
            "Similarities with recent news article : 120 - 0.1955941994369424\n",
            "Similarities with recent news article : 121 - 0.1692423089234664\n",
            "Similarities with recent news article : 122 - 0.24423719531082916\n",
            "Similarities with recent news article : 123 - 0.1692423089234664\n",
            "Similarities with recent news article : 124 - 0.16331511463973994\n",
            "Similarities with recent news article : 125 - 0.15311754808520733\n",
            "Similarities with recent news article : 126 - 0.1692423089234664\n",
            "Similarities with recent news article : 127 - 0.15797000545984544\n",
            "Similarities with recent news article : 128 - 0.27851262066679533\n",
            "Similarities with recent news article : 129 - 0.16331511463973994\n",
            "Similarities with recent news article : 130 - 0.15797000545984544\n",
            "Similarities with recent news article : 131 - 0.18375568986292973\n",
            "Similarities with recent news article : 132 - 0.2279834282943299\n",
            "Similarities with recent news article : 133 - 0.1692423089234664\n",
            "Similarities with recent news article : 134 - 0.31405239181438743\n",
            "Similarities with recent news article : 135 - 0.25378598056267937\n",
            "Similarities with recent news article : 136 - 0.18333263929028415\n",
            "Similarities with recent news article : 137 - 0.20872876530988244\n",
            "Similarities with recent news article : 138 - 0.16331511463973994\n",
            "Similarities with recent news article : 139 - 0.15311754808520736\n",
            "Similarities with recent news article : 140 - 0.2087287653098825\n",
            "Similarities with recent news article : 141 - 0.1955941994369424\n",
            "Similarities with recent news article : 142 - 0.17586553685537643\n",
            "Similarities with recent news article : 143 - 0.14461901945292335\n",
            "Similarities with recent news article : 144 - 0.17858934004286636\n"
          ],
          "name": "stdout"
        }
      ]
    }
  ]
}