{
  "nbformat": 4,
  "nbformat_minor": 0,
  "metadata": {
    "colab": {
      "name": "NewsRankTool.ipynb",
      "provenance": []
    },
    "kernelspec": {
      "name": "python3",
      "display_name": "Python 3"
    }
  },
  "cells": [
    {
      "cell_type": "code",
      "metadata": {
        "id": "MOSmZGDJzidk",
        "colab_type": "code",
        "colab": {}
      },
      "source": [
        "ls  \"/content/drive/My Drive/Colab Notebooks/SS sir Tool\""
      ],
      "execution_count": 0,
      "outputs": []
    },
    {
      "cell_type": "code",
      "metadata": {
        "id": "aCkicqdO0IUd",
        "colab_type": "code",
        "colab": {}
      },
      "source": [
        "import pandas as pd\n",
        "from sklearn.feature_extraction.text import CountVectorizer\n",
        "from sklearn.metrics.pairwise import cosine_similarity\n",
        "from sklearn.feature_extraction.text import TfidfVectorizer\n",
        "data = pd.read_csv(\"/content/drive/My Drive/Colab Notebooks/SS sir Tool/news_april18.csv\") \n",
        "# Preview the first 5 lines of the loaded data\n",
        "#data.head()"
      ],
      "execution_count": 0,
      "outputs": []
    },
    {
      "cell_type": "code",
      "metadata": {
        "id": "7YvqSrlM0x4Q",
        "colab_type": "code",
        "colab": {
          "base_uri": "https://localhost:8080/",
          "height": 198
        },
        "outputId": "ba43de45-b81a-4383-feaa-8e9cc15bb1de"
      },
      "source": [
        "data = data.drop('URL', 1)\n",
        "data = data.drop('Unnamed: 0', 1)\n",
        "data.head()"
      ],
      "execution_count": 46,
      "outputs": [
        {
          "output_type": "execute_result",
          "data": {
            "text/html": [
              "<div>\n",
              "<style scoped>\n",
              "    .dataframe tbody tr th:only-of-type {\n",
              "        vertical-align: middle;\n",
              "    }\n",
              "\n",
              "    .dataframe tbody tr th {\n",
              "        vertical-align: top;\n",
              "    }\n",
              "\n",
              "    .dataframe thead th {\n",
              "        text-align: right;\n",
              "    }\n",
              "</style>\n",
              "<table border=\"1\" class=\"dataframe\">\n",
              "  <thead>\n",
              "    <tr style=\"text-align: right;\">\n",
              "      <th></th>\n",
              "      <th>Title</th>\n",
              "      <th>Details</th>\n",
              "    </tr>\n",
              "  </thead>\n",
              "  <tbody>\n",
              "    <tr>\n",
              "      <th>0</th>\n",
              "      <td>ইইউ ক্যাপিটালে মৃত্যুর মিছিল, এখনও নিরাপদে আছে...</td>\n",
              "      <td>\\n\\nমিজানুর রহমান\\nঅনলাইন  ১৮ এপ্রিল ২০২০, শনি...</td>\n",
              "    </tr>\n",
              "    <tr>\n",
              "      <th>1</th>\n",
              "      <td>করোনা কেড়ে নিলো দেড় লাখ প্রাণ</td>\n",
              "      <td>\\n\\nঅনলাইন ডেস্ক \\nঅনলাইন  ১৮ এপ্রিল ২০২০, শনি...</td>\n",
              "    </tr>\n",
              "    <tr>\n",
              "      <th>2</th>\n",
              "      <td>‘আমিই ভেন্টিলেটর বন্ধ করছি আর রোগীর শেষ মুহূর্...</td>\n",
              "      <td>\\n\\n\\nঅনলাইন             ১৮ এপ্রিল ২০২০, শনিবা...</td>\n",
              "    </tr>\n",
              "    <tr>\n",
              "      <th>3</th>\n",
              "      <td>আরো কঠোর হচ্ছে পুলিশ</td>\n",
              "      <td>\\n\\nস্টাফ রিপোর্টার\\nঅনলাইন  ১৮ এপ্রিল ২০২০, শ...</td>\n",
              "    </tr>\n",
              "    <tr>\n",
              "      <th>4</th>\n",
              "      <td>আইনমন্ত্রীর মায়ের ইন্তেকাল</td>\n",
              "      <td>\\n\\n অনলাইন ডেস্ক\\nঅনলাইন  ১৮ এপ্রিল ২০২০, শনি...</td>\n",
              "    </tr>\n",
              "  </tbody>\n",
              "</table>\n",
              "</div>"
            ],
            "text/plain": [
              "                                               Title                                            Details\n",
              "0  ইইউ ক্যাপিটালে মৃত্যুর মিছিল, এখনও নিরাপদে আছে...  \\n\\nমিজানুর রহমান\\nঅনলাইন  ১৮ এপ্রিল ২০২০, শনি...\n",
              "1                      করোনা কেড়ে নিলো দেড় লাখ প্রাণ  \\n\\nঅনলাইন ডেস্ক \\nঅনলাইন  ১৮ এপ্রিল ২০২০, শনি...\n",
              "2  ‘আমিই ভেন্টিলেটর বন্ধ করছি আর রোগীর শেষ মুহূর্...  \\n\\n\\nঅনলাইন             ১৮ এপ্রিল ২০২০, শনিবা...\n",
              "3                               আরো কঠোর হচ্ছে পুলিশ  \\n\\nস্টাফ রিপোর্টার\\nঅনলাইন  ১৮ এপ্রিল ২০২০, শ...\n",
              "4                         আইনমন্ত্রীর মায়ের ইন্তেকাল  \\n\\n অনলাইন ডেস্ক\\nঅনলাইন  ১৮ এপ্রিল ২০২০, শনি..."
            ]
          },
          "metadata": {
            "tags": []
          },
          "execution_count": 46
        }
      ]
    },
    {
      "cell_type": "code",
      "metadata": {
        "id": "66yziLT63hZ6",
        "colab_type": "code",
        "colab": {}
      },
      "source": [
        "train_set = data.loc[:,:]"
      ],
      "execution_count": 0,
      "outputs": []
    },
    {
      "cell_type": "code",
      "metadata": {
        "id": "AEScFjVkBawV",
        "colab_type": "code",
        "colab": {}
      },
      "source": [
        "tfidf_vectorizer = TfidfVectorizer()\n",
        "tfidf_matrix_train = tfidf_vectorizer.fit_transform(train_set)  \n",
        "#finds the tfidf score with normalization\n",
        "for i in range(1,10):\n",
        "  print(\"cosine scores ==> \",i,cosine_similarity(tfidf_matrix_train[0:i], tfidf_matrix_train))\n",
        "  #here the first element of tfidf_matrix_train is matched with other three elements"
      ],
      "execution_count": 0,
      "outputs": []
    },
    {
      "cell_type": "code",
      "metadata": {
        "id": "WI0b3ONkHUF3",
        "colab_type": "code",
        "colab": {}
      },
      "source": [
        "print(\"cosine scores ==> \",i,cosine_similarity(tfidf_matrix_train[0:1], tfidf_matrix_train))"
      ],
      "execution_count": 0,
      "outputs": []
    }
  ]
}