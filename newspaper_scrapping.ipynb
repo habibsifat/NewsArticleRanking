{
  "nbformat": 4,
  "nbformat_minor": 0,
  "metadata": {
    "colab": {
      "name": "newspaper_scrapping.ipynb",
      "provenance": [],
      "include_colab_link": true
    },
    "kernelspec": {
      "name": "python3",
      "display_name": "Python 3"
    }
  },
  "cells": [
    {
      "cell_type": "markdown",
      "metadata": {
        "id": "view-in-github",
        "colab_type": "text"
      },
      "source": [
        "<a href=\"https://colab.research.google.com/github/habibsifat/NewsArticleRanking/blob/master/newspaper_scrapping.ipynb\" target=\"_parent\"><img src=\"https://colab.research.google.com/assets/colab-badge.svg\" alt=\"Open In Colab\"/></a>"
      ]
    },
    {
      "cell_type": "code",
      "metadata": {
        "id": "d0JQZ8AAA3JI",
        "colab_type": "code",
        "colab": {}
      },
      "source": [
        "from google.colab import drive\n",
        "drive.mount('/content/gdrive/')"
      ],
      "execution_count": 0,
      "outputs": []
    },
    {
      "cell_type": "code",
      "metadata": {
        "id": "l7xfwIp3BYVx",
        "colab_type": "code",
        "colab": {}
      },
      "source": [
        "from requests import get \n",
        "import re\n",
        "from bs4 import BeautifulSoup\n",
        "import pandas as pd"
      ],
      "execution_count": 0,
      "outputs": []
    },
    {
      "cell_type": "code",
      "metadata": {
        "id": "J2iCGcZwBpYT",
        "colab_type": "code",
        "colab": {}
      },
      "source": [
        "# convert url to html\n",
        "url  = \"https://www.mzamin.com/archive-result.php?data=1587146400&date=2020-04-18\"\n",
        "html_page = get(url)"
      ],
      "execution_count": 0,
      "outputs": []
    },
    {
      "cell_type": "code",
      "metadata": {
        "id": "3-sC3-hbCQSL",
        "colab_type": "code",
        "colab": {}
      },
      "source": [
        "soup = BeautifulSoup(html_page.text, 'html.parser')\n",
        "type(soup)"
      ],
      "execution_count": 0,
      "outputs": []
    },
    {
      "cell_type": "code",
      "metadata": {
        "id": "eoE8KrCXMj7K",
        "colab_type": "code",
        "colab": {}
      },
      "source": [
        "all_url = []\n",
        "all_title = []\n",
        "all_content = []"
      ],
      "execution_count": 0,
      "outputs": []
    },
    {
      "cell_type": "code",
      "metadata": {
        "id": "UbFaZIIsE5s4",
        "colab_type": "code",
        "colab": {}
      },
      "source": [
        "main_url =\"https://www.mzamin.com/\"\n",
        "href_container= soup.find_all('li',class_=\"details-list\")\n",
        "type(href_container) \n",
        "for ob in href_container:\n",
        "  a_list  = ob.find('a')\n",
        "  url_list = main_url+a_list.get('href')\n",
        "  all_url.append(url_list)\n",
        "  title_list = a_list.text\n",
        "  #print(\"URL: {}\".format(url_list))\n",
        "  #print(\"Title: {}\".format(title_list))\n",
        "  all_title.append(title_list)\n",
        "  # go to deep url\n",
        "  deep_html = get(url_list)\n",
        "  deep_soup = BeautifulSoup(deep_html.text, \"html.parser\")\n",
        "  deep_content = deep_soup.find('div', class_=\"details-text\")\n",
        "  #print(deep_content.text)\n",
        "  all_content.append(deep_content.text)\n",
        "  print(\"Added succesfully \")\n"
      ],
      "execution_count": 0,
      "outputs": []
    },
    {
      "cell_type": "code",
      "metadata": {
        "id": "p3vy0_APNoSd",
        "colab_type": "code",
        "outputId": "444ed636-26b7-4827-ca30-5c050b4dbedf",
        "colab": {
          "base_uri": "https://localhost:8080/",
          "height": 73
        }
      },
      "source": [
        "print(len(all_url))\n",
        "print(len(all_title))\n",
        "print(len(all_content))"
      ],
      "execution_count": 0,
      "outputs": [
        {
          "output_type": "stream",
          "text": [
            "145\n",
            "145\n",
            "145\n"
          ],
          "name": "stdout"
        }
      ]
    },
    {
      "cell_type": "code",
      "metadata": {
        "id": "7VTdGvxpN1kK",
        "colab_type": "code",
        "colab": {}
      },
      "source": [
        "df = pd.DataFrame()"
      ],
      "execution_count": 0,
      "outputs": []
    },
    {
      "cell_type": "code",
      "metadata": {
        "id": "QrNxCGo5N6pf",
        "colab_type": "code",
        "colab": {}
      },
      "source": [
        "df[\"URL\"] = all_url.copy()\n",
        "df[\"Title\"] = all_title.copy()\n",
        "df[\"Details\"] = all_content.copy()"
      ],
      "execution_count": 0,
      "outputs": []
    },
    {
      "cell_type": "code",
      "metadata": {
        "id": "P-VgZJBZOVCa",
        "colab_type": "code",
        "outputId": "a047ca91-4638-4fbf-c632-c04bb682e902",
        "colab": {
          "base_uri": "https://localhost:8080/",
          "height": 206
        }
      },
      "source": [
        "df.head()"
      ],
      "execution_count": 0,
      "outputs": [
        {
          "output_type": "execute_result",
          "data": {
            "text/html": [
              "<div>\n",
              "<style scoped>\n",
              "    .dataframe tbody tr th:only-of-type {\n",
              "        vertical-align: middle;\n",
              "    }\n",
              "\n",
              "    .dataframe tbody tr th {\n",
              "        vertical-align: top;\n",
              "    }\n",
              "\n",
              "    .dataframe thead th {\n",
              "        text-align: right;\n",
              "    }\n",
              "</style>\n",
              "<table border=\"1\" class=\"dataframe\">\n",
              "  <thead>\n",
              "    <tr style=\"text-align: right;\">\n",
              "      <th></th>\n",
              "      <th>URL</th>\n",
              "      <th>Title</th>\n",
              "      <th>Details</th>\n",
              "    </tr>\n",
              "  </thead>\n",
              "  <tbody>\n",
              "    <tr>\n",
              "      <th>0</th>\n",
              "      <td>https://www.mzamin.com/article.php?mzamin=2225...</td>\n",
              "      <td>ইইউ ক্যাপিটালে মৃত্যুর মিছিল, এখনও নিরাপদে আছে...</td>\n",
              "      <td>\\n\\nমিজানুর রহমান\\nঅনলাইন  ১৮ এপ্রিল ২০২০, শনি...</td>\n",
              "    </tr>\n",
              "    <tr>\n",
              "      <th>1</th>\n",
              "      <td>https://www.mzamin.com/article.php?mzamin=2225...</td>\n",
              "      <td>করোনা কেড়ে নিলো দেড় লাখ প্রাণ</td>\n",
              "      <td>\\n\\nঅনলাইন ডেস্ক \\nঅনলাইন  ১৮ এপ্রিল ২০২০, শনি...</td>\n",
              "    </tr>\n",
              "    <tr>\n",
              "      <th>2</th>\n",
              "      <td>https://www.mzamin.com/article.php?mzamin=2225...</td>\n",
              "      <td>‘আমিই ভেন্টিলেটর বন্ধ করছি আর রোগীর শেষ মুহূর্...</td>\n",
              "      <td>\\n\\n\\nঅনলাইন             ১৮ এপ্রিল ২০২০, শনিবা...</td>\n",
              "    </tr>\n",
              "    <tr>\n",
              "      <th>3</th>\n",
              "      <td>https://www.mzamin.com/article.php?mzamin=2225...</td>\n",
              "      <td>আরো কঠোর হচ্ছে পুলিশ</td>\n",
              "      <td>\\n\\nস্টাফ রিপোর্টার\\nঅনলাইন  ১৮ এপ্রিল ২০২০, শ...</td>\n",
              "    </tr>\n",
              "    <tr>\n",
              "      <th>4</th>\n",
              "      <td>https://www.mzamin.com/article.php?mzamin=2225...</td>\n",
              "      <td>আইনমন্ত্রীর মায়ের ইন্তেকাল</td>\n",
              "      <td>\\n\\n অনলাইন ডেস্ক\\nঅনলাইন  ১৮ এপ্রিল ২০২০, শনি...</td>\n",
              "    </tr>\n",
              "  </tbody>\n",
              "</table>\n",
              "</div>"
            ],
            "text/plain": [
              "                                                 URL  ...                                            Details\n",
              "0  https://www.mzamin.com/article.php?mzamin=2225...  ...  \\n\\nমিজানুর রহমান\\nঅনলাইন  ১৮ এপ্রিল ২০২০, শনি...\n",
              "1  https://www.mzamin.com/article.php?mzamin=2225...  ...  \\n\\nঅনলাইন ডেস্ক \\nঅনলাইন  ১৮ এপ্রিল ২০২০, শনি...\n",
              "2  https://www.mzamin.com/article.php?mzamin=2225...  ...  \\n\\n\\nঅনলাইন             ১৮ এপ্রিল ২০২০, শনিবা...\n",
              "3  https://www.mzamin.com/article.php?mzamin=2225...  ...  \\n\\nস্টাফ রিপোর্টার\\nঅনলাইন  ১৮ এপ্রিল ২০২০, শ...\n",
              "4  https://www.mzamin.com/article.php?mzamin=2225...  ...  \\n\\n অনলাইন ডেস্ক\\nঅনলাইন  ১৮ এপ্রিল ২০২০, শনি...\n",
              "\n",
              "[5 rows x 3 columns]"
            ]
          },
          "metadata": {
            "tags": []
          },
          "execution_count": 60
        }
      ]
    },
    {
      "cell_type": "code",
      "metadata": {
        "id": "OoJhsUKfOz-P",
        "colab_type": "code",
        "colab": {}
      },
      "source": [
        "df.to_csv(\"/content/gdrive/My Drive/Colab Notebooks/datasets/news_april18_textformat.txt\")"
      ],
      "execution_count": 0,
      "outputs": []
    }
  ]
}